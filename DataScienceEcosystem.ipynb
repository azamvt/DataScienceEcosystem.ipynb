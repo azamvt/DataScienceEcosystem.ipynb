{
 "cells": [
  {
   "cell_type": "markdown",
   "id": "7e35f842-6aef-4e71-8508-364f2b91241f",
   "metadata": {},
   "source": [
    "# Data Science Tools and Ecosystem"
   ]
  },
  {
   "cell_type": "markdown",
   "id": "785795a8-c3a9-4983-8804-658c84f79080",
   "metadata": {},
   "source": [
    "In this notebook, Data Science Tools and Ecosystem are summarized."
   ]
  },
  {
   "cell_type": "markdown",
   "id": "2791d903-6d7f-44a7-a2bc-2cc30a89ec6c",
   "metadata": {},
   "source": [
    "**Objectives:**\n",
    "- List of popular languages in Data Science\n",
    "- List of some commonly used libraries by Data Scientists\n",
    "- List of Open Source data science tools\n",
    "- Few examples of evaluating arithmetic expressions in python\n"
   ]
  },
  {
   "cell_type": "markdown",
   "id": "13cb975a-42aa-41fc-9959-ea8395bbe697",
   "metadata": {},
   "source": [
    "Some of the popular languages that Data Scientists use are:\n",
    "1. Python\n",
    "2. SQL\n",
    "3. R\n",
    "4. VBA\n",
    "5. Julia\n",
    "6. JavaScript"
   ]
  },
  {
   "cell_type": "markdown",
   "id": "4cd4ca34-b2f1-4e16-936e-f86a13d59329",
   "metadata": {},
   "source": [
    "Some of the commonly used libraries used by Data Scientists include:\n",
    "1. NumPy\n",
    "2. Keras\n",
    "3. Pandas\n",
    "4. PyTorch\n",
    "5. SciPy"
   ]
  },
  {
   "cell_type": "markdown",
   "id": "0bf751da-06b8-44aa-b8de-444de36c3039",
   "metadata": {},
   "source": [
    "|Data Science Tools|\n",
    "|---|\n",
    "|Pandas|\n",
    "|Hadoop|\n",
    "|TensorFlow.js|"
   ]
  },
  {
   "cell_type": "markdown",
   "id": "d9a8099c-157c-4bc5-90e3-d50f71b659b6",
   "metadata": {},
   "source": [
    "### Below are a few examples of evaluating arithmetic expressions in Python."
   ]
  },
  {
   "cell_type": "code",
   "execution_count": 6,
   "id": "e46b8345-ce63-4983-851a-542fba423d78",
   "metadata": {},
   "outputs": [
    {
     "name": "stdout",
     "output_type": "stream",
     "text": [
      "17\n"
     ]
    }
   ],
   "source": [
    "# This a simple arithmetic expression to mutiply then add integers.\n",
    "z = (3*4)+5\n",
    "print(z)"
   ]
  },
  {
   "cell_type": "code",
   "execution_count": 7,
   "id": "e9f51504-c00b-4956-a89b-add9599ded95",
   "metadata": {},
   "outputs": [
    {
     "name": "stdout",
     "output_type": "stream",
     "text": [
      "3.3333333333333335\n"
     ]
    }
   ],
   "source": [
    "# This will convert 200 minutes to hours by diving by 60.\n",
    "hours = 200/60\n",
    "print(hours)"
   ]
  },
  {
   "cell_type": "markdown",
   "id": "4ef2db51-0394-4f2e-a967-63899a06ec33",
   "metadata": {},
   "source": [
    "## Author\n",
    "Atish Saurav"
   ]
  },
  {
   "cell_type": "code",
   "execution_count": null,
   "id": "e2dce7b8-0699-4e38-b515-3ba50b3b1a45",
   "metadata": {},
   "outputs": [],
   "source": []
  }
 ],
 "metadata": {
  "kernelspec": {
   "display_name": "Python 3 (ipykernel)",
   "language": "python",
   "name": "python3"
  },
  "language_info": {
   "codemirror_mode": {
    "name": "ipython",
    "version": 3
   },
   "file_extension": ".py",
   "mimetype": "text/x-python",
   "name": "python",
   "nbconvert_exporter": "python",
   "pygments_lexer": "ipython3",
   "version": "3.9.7"
  }
 },
 "nbformat": 4,
 "nbformat_minor": 5
}
